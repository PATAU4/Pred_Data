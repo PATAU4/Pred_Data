{
 "cells": [
  {
   "cell_type": "code",
   "execution_count": 65,
   "id": "55ae134d",
   "metadata": {},
   "outputs": [],
   "source": [
    "from corus import load_lenta\n",
    "from nltk.stem import SnowballStemmer\n",
    "snb_stemmer_ru = SnowballStemmer('russian')\n",
    "from razdel import sentenize\n",
    "from razdel import tokenize\n",
    "import re\n",
    "import pymorphy2\n",
    "from nltk.corpus import stopwords\n",
    "morph = pymorphy2.MorphAnalyzer()\n",
    "ru_stop_words = stopwords.words('russian')\n",
    "import time\n",
    "\n",
    "import pandas as pd\n",
    "import numpy as np"
   ]
  },
  {
   "cell_type": "code",
   "execution_count": 66,
   "id": "061c09d3",
   "metadata": {},
   "outputs": [],
   "source": [
    "import re\n",
    "import nltk\n",
    "\n",
    "import torch\n",
    "from torch.utils.data import Dataset, DataLoader, random_split\n",
    "import torch.nn as nn\n",
    "import torch.optim as optim\n",
    "\n",
    "import pandas as pd\n",
    "from sklearn.model_selection import train_test_split\n",
    "from sklearn.metrics import accuracy_score\n",
    "from nltk.tokenize import word_tokenize\n",
    "from sklearn.preprocessing import LabelEncoder"
   ]
  },
  {
   "cell_type": "code",
   "execution_count": 67,
   "id": "14533644",
   "metadata": {},
   "outputs": [],
   "source": [
    "\n",
    "from sklearn.feature_extraction.text import CountVectorizer\n",
    "from sklearn.naive_bayes import MultinomialNB\n",
    "\n",
    "from sklearn import metrics\n",
    "import matplotlib.pyplot as plt\n",
    "import seaborn as sns"
   ]
  },
  {
   "cell_type": "code",
   "execution_count": 32,
   "id": "32858b80",
   "metadata": {},
   "outputs": [],
   "source": [
    "# !wget \"https://github.com/yutkin/Lenta.Ru-News-Dataset/releases/download/v1.0/lenta-ru-news.csv.gz\""
   ]
  },
  {
   "cell_type": "code",
   "execution_count": 33,
   "id": "b875d15c",
   "metadata": {},
   "outputs": [],
   "source": [
    "path = 'lenta-ru-news.csv.gz'"
   ]
  },
  {
   "cell_type": "code",
   "execution_count": 34,
   "id": "1fc1a8b8",
   "metadata": {},
   "outputs": [],
   "source": [
    "records = load_lenta(path)"
   ]
  },
  {
   "cell_type": "code",
   "execution_count": 35,
   "id": "f887742e",
   "metadata": {},
   "outputs": [
    {
     "data": {
      "text/plain": [
       "LentaRecord(\n",
       "    url='https://lenta.ru/news/2018/12/14/cancer/',\n",
       "    title='Названы регионы России с\\xa0самой высокой смертностью от\\xa0рака',\n",
       "    text='Вице-премьер по социальным вопросам Татьяна Голикова рассказала, в каких регионах России зафиксирована наиболее высокая смертность от рака, сообщает РИА Новости. По словам Голиковой, чаще всего онкологические заболевания становились причиной смерти в Псковской, Тверской, Тульской и Орловской областях, а также в Севастополе. Вице-премьер напомнила, что главные факторы смертности в России — рак и болезни системы кровообращения. В начале года стало известно, что смертность от онкологических заболеваний среди россиян снизилась впервые за три года. По данным Росстата, в 2017 году от рака умерли 289 тысяч человек. Это на 3,5 процента меньше, чем годом ранее.',\n",
       "    topic='Россия',\n",
       "    tags='Общество',\n",
       "    date=None\n",
       ")"
      ]
     },
     "execution_count": 35,
     "metadata": {},
     "output_type": "execute_result"
    }
   ],
   "source": [
    "next(iter(records))"
   ]
  },
  {
   "cell_type": "code",
   "execution_count": null,
   "id": "61529653",
   "metadata": {},
   "outputs": [],
   "source": []
  },
  {
   "cell_type": "code",
   "execution_count": 36,
   "id": "c5fe7c64",
   "metadata": {},
   "outputs": [],
   "source": [
    "records = load_lenta(path)"
   ]
  },
  {
   "cell_type": "code",
   "execution_count": 37,
   "id": "b65c80ce",
   "metadata": {},
   "outputs": [],
   "source": [
    "lst_politics = []\n",
    "lst_society = []\n",
    "lst_sport = []\n",
    "lst_cultural = []\n",
    "lst_science = []\n",
    "lst_economic = []"
   ]
  },
  {
   "cell_type": "code",
   "execution_count": 38,
   "id": "4379540b",
   "metadata": {},
   "outputs": [],
   "source": [
    "for i in records:\n",
    "    \n",
    "    if i.topic == 'Политика' or i.tags == 'Политика':\n",
    "        lst_politics.append(i.text)\n",
    "        \n",
    "    if i.topic == 'Общество' or i.tags == 'Общество':\n",
    "        lst_society.append(i.text)\n",
    "        \n",
    "    if i.topic == 'Спорт' or i.tags == 'Спорт':\n",
    "        lst_sport.append(i.text)\n",
    "        \n",
    "    if i.topic == 'Культура' or i.tags == 'Культура':\n",
    "        lst_cultural.append(i.text)\n",
    "        \n",
    "    if i.topic == 'Наука' or i.tags == 'Наука' or i.topic == 'Наука и техника' or i.tags == 'Наука и техника':\n",
    "        lst_science.append(i.text)\n",
    "        \n",
    "    if i.topic == 'Экономика' or i.tags == 'Экономика':\n",
    "        lst_economic.append(i.text)\n",
    "        "
   ]
  },
  {
   "cell_type": "code",
   "execution_count": 39,
   "id": "120bb1d8",
   "metadata": {},
   "outputs": [
    {
     "name": "stdout",
     "output_type": "stream",
     "text": [
      "\n",
      "политика: 33220\n",
      "\n",
      "общество: 27560\n",
      "\n",
      "спорт: 64421\n",
      "\n",
      "культура: 53803\n",
      "\n",
      "наука: 53136\n",
      "\n",
      "экономика: 79538\n",
      "\n",
      "\n",
      "\n"
     ]
    }
   ],
   "source": [
    "print(f'''\n",
    "политика: {len(lst_politics)}\\n\n",
    "общество: {len(lst_society)}\\n\n",
    "спорт: {len(lst_sport)}\\n\n",
    "культура: {len(lst_cultural)}\\n\n",
    "наука: {len(lst_science)}\\n\n",
    "экономика: {len(lst_economic)}\\n\n",
    "\n",
    "''')"
   ]
  },
  {
   "cell_type": "code",
   "execution_count": 40,
   "id": "ec29d450",
   "metadata": {},
   "outputs": [],
   "source": [
    "lst_sport = lst_sport[:32000]"
   ]
  },
  {
   "cell_type": "code",
   "execution_count": 41,
   "id": "268ea774",
   "metadata": {},
   "outputs": [],
   "source": [
    "lst_cultural = lst_cultural[:32000]\n",
    "lst_science = lst_science[:32000]\n",
    "lst_economic = lst_economic[:32000]"
   ]
  },
  {
   "cell_type": "code",
   "execution_count": 42,
   "id": "d3f7c525",
   "metadata": {},
   "outputs": [
    {
     "name": "stdout",
     "output_type": "stream",
     "text": [
      "\n",
      "политика: 33220\n",
      "\n",
      "общество: 27560\n",
      "\n",
      "спорт: 32000\n",
      "\n",
      "культура: 32000\n",
      "\n",
      "наука: 32000\n",
      "\n",
      "экономика: 32000\n",
      "\n",
      "\n",
      "\n"
     ]
    }
   ],
   "source": [
    "print(f'''\n",
    "политика: {len(lst_politics)}\\n\n",
    "общество: {len(lst_society)}\\n\n",
    "спорт: {len(lst_sport)}\\n\n",
    "культура: {len(lst_cultural)}\\n\n",
    "наука: {len(lst_science)}\\n\n",
    "экономика: {len(lst_economic)}\\n\n",
    "\n",
    "''')"
   ]
  },
  {
   "cell_type": "code",
   "execution_count": 43,
   "id": "0601c83a",
   "metadata": {},
   "outputs": [],
   "source": [
    "pred_politics_lst = []\n",
    "pred_society_lst = []\n",
    "pred_sport_lst = []\n",
    "pred_cultural_lst = []\n",
    "pred_science_lst = []\n",
    "pred_economic_lst = []"
   ]
  },
  {
   "cell_type": "code",
   "execution_count": 44,
   "id": "5fe4e537",
   "metadata": {},
   "outputs": [
    {
     "data": {
      "text/plain": [
       "'С начала расследования российского вмешательства в выборы власти США потратили более 25 миллионов долларов. Об этом сообщает Associated Press со ссылкой на отчет Министерства юстиции США. В документе содержатся данные о расходах на следствие с апреля по сентябрь 2018 года. За эти полгода было потрачено 4,6 миллиона долларов, из которых почти 3\\xa0миллиона долларов ушли на зарплату сотрудников, 580 тысяч — на поездки и сопутствующие расходы. Ранее Минюст США уже публиковал отчеты о затратах на дело о российском вмешательстве за предыдущие месяцы. 11 декабря расследование спецпрокурора Робера Мюллера показало, что по меньшей мере 14 человек из окружения президента США Дональда Трампа контактировали с россиянами во время его избирательной кампании и последующего переходного периода перед вступлением в должность главы государства. Мюллер с 2017 года ведет дело о якобы российском вмешательстве в американские выборы в 2016-м. Перед ним поставлена задача выяснить, был ли сговор между штабом Трампа и Россией. Кремль и Белый дом отвергают все обвинения. Россию неоднократно обвиняли во вмешательстве в выборы президента США с помощью хакеров. В июне спецслужбы выдвинули заочное обвинение 12 российским разведчикам. По данным спецслужб США, российская разведка использовала две хакерские группировки для взлома серверов Демократической партии.'"
      ]
     },
     "execution_count": 44,
     "metadata": {},
     "output_type": "execute_result"
    }
   ],
   "source": [
    "lst_politics[0]"
   ]
  },
  {
   "cell_type": "code",
   "execution_count": 45,
   "id": "cfb79378",
   "metadata": {},
   "outputs": [],
   "source": [
    "def predprocessing(lst_in, lst_out):\n",
    "    cnt = 0\n",
    "    for i in lst_in:\n",
    "\n",
    "        ans_str = ''\n",
    "        tok = list(tokenize(i))\n",
    "        ru_letters = re.compile('^[а-яА-ЯёЁ]*$')\n",
    "        pt = [morph.parse(t.text) for t in tok if ru_letters.search(t.text)] \n",
    "        lemmed_text = [ru_letters[0].normalized.word for ru_letters in pt]\n",
    "\n",
    "        for i in lemmed_text:\n",
    "            if i in ru_stop_words:\n",
    "                lemmed_text.remove(i)\n",
    "        for i in lemmed_text:\n",
    "            ans_str += (i + \" \")\n",
    "        lst_out.append(ans_str)\n",
    "\n"
   ]
  },
  {
   "cell_type": "code",
   "execution_count": 46,
   "id": "dc819739",
   "metadata": {},
   "outputs": [
    {
     "name": "stdout",
     "output_type": "stream",
     "text": [
      "--- 5533.072292804718 seconds ---\n"
     ]
    }
   ],
   "source": [
    "start_time = time.time()\n",
    "\n",
    "predprocessing(lst_politics, pred_politics_lst)\n",
    "predprocessing(lst_society, pred_society_lst)\n",
    "predprocessing(lst_sport, pred_sport_lst)\n",
    "predprocessing(lst_cultural, pred_cultural_lst)\n",
    "predprocessing(lst_science, pred_science_lst)\n",
    "predprocessing(lst_economic, pred_economic_lst)\n",
    "\n",
    "print(\"--- %s seconds ---\" % (time.time() - start_time))"
   ]
  },
  {
   "cell_type": "code",
   "execution_count": null,
   "id": "fe1404dc",
   "metadata": {},
   "outputs": [],
   "source": []
  },
  {
   "cell_type": "code",
   "execution_count": 48,
   "id": "05110e86",
   "metadata": {},
   "outputs": [],
   "source": [
    "from collections import Counter"
   ]
  },
  {
   "cell_type": "code",
   "execution_count": 49,
   "id": "c52be996",
   "metadata": {},
   "outputs": [],
   "source": [
    "lst_all = []"
   ]
  },
  {
   "cell_type": "code",
   "execution_count": 50,
   "id": "5b312a2d",
   "metadata": {},
   "outputs": [],
   "source": [
    "def to_one_lst(lst):\n",
    "    for i in lst :\n",
    "        [lst_all.append(j) for j in i.split()]"
   ]
  },
  {
   "cell_type": "code",
   "execution_count": 51,
   "id": "81b6715f",
   "metadata": {},
   "outputs": [],
   "source": [
    "to_one_lst(pred_politics_lst)\n",
    "to_one_lst(pred_society_lst)\n",
    "to_one_lst(pred_sport_lst)\n",
    "to_one_lst(pred_cultural_lst)\n",
    "to_one_lst(pred_science_lst)\n",
    "to_one_lst(pred_economic_lst)"
   ]
  },
  {
   "cell_type": "code",
   "execution_count": 55,
   "id": "c8e074a5",
   "metadata": {},
   "outputs": [
    {
     "data": {
      "text/plain": [
       "'начало'"
      ]
     },
     "execution_count": 55,
     "metadata": {},
     "output_type": "execute_result"
    }
   ],
   "source": [
    "lst_all[0]"
   ]
  },
  {
   "cell_type": "code",
   "execution_count": 56,
   "id": "df4b632e",
   "metadata": {},
   "outputs": [],
   "source": [
    "pd.Series(lst_all).to_csv('out.csv', index=False)  "
   ]
  },
  {
   "cell_type": "code",
   "execution_count": 84,
   "id": "fd087d29",
   "metadata": {},
   "outputs": [
    {
     "data": {
      "text/plain": [
       "0                  начало\n",
       "1           расследование\n",
       "2              российский\n",
       "3           вмешательство\n",
       "4                  выборы\n",
       "                ...      \n",
       "25200029          назвать\n",
       "25200030              имя\n",
       "25200031         прокурор\n",
       "25200032      участвовать\n",
       "25200033    расследование\n",
       "Length: 25200034, dtype: object"
      ]
     },
     "execution_count": 84,
     "metadata": {},
     "output_type": "execute_result"
    }
   ],
   "source": [
    "pd.Series(lst_all)"
   ]
  },
  {
   "cell_type": "code",
   "execution_count": 86,
   "id": "dfa1d143",
   "metadata": {},
   "outputs": [],
   "source": [
    "def create_lookup_tables(words):\n",
    "\n",
    "    word_counts = Counter(words)\n",
    "    sorted_vocab = sorted(word_counts, key = word_counts.get, reverse=True)\n",
    "    int_to_vocab = {i: word for i,word in enumerate(sorted_vocab)}\n",
    "    vocab_to_int = {word: i for i,word in enumerate(sorted_vocab)}\n",
    "\n",
    "    return vocab_to_int, int_to_vocab"
   ]
  },
  {
   "cell_type": "code",
   "execution_count": 87,
   "id": "7c128fa4",
   "metadata": {
    "scrolled": true
   },
   "outputs": [],
   "source": [
    "vocab_to_int, int_to_vocab = create_lookup_tables(lst_all)"
   ]
  },
  {
   "cell_type": "code",
   "execution_count": null,
   "id": "2c0c8578",
   "metadata": {},
   "outputs": [],
   "source": []
  },
  {
   "cell_type": "code",
   "execution_count": 64,
   "id": "37d82fed",
   "metadata": {},
   "outputs": [],
   "source": [
    "pd.Series(pred_politics_lst).to_csv('pred_politics_lst.csv', index=False)\n",
    "pd.Series(pred_society_lst).to_csv('pred_society_lst.csv', index=False)\n",
    "pd.Series(pred_sport_lst).to_csv('pred_sport_lst.csv', index=False) \n",
    "pd.Series(pred_cultural_lst).to_csv('pred_cultural_lst.csv', index=False)  \n",
    "pd.Series(pred_science_lst).to_csv('pred_science_lst.csv', index=False)  \n",
    "pd.Series(pred_economic_lst).to_csv('pred_economic_lst.csv', index=False)  "
   ]
  },
  {
   "cell_type": "code",
   "execution_count": null,
   "id": "b6065dc2",
   "metadata": {},
   "outputs": [],
   "source": []
  },
  {
   "cell_type": "code",
   "execution_count": null,
   "id": "b79895bd",
   "metadata": {},
   "outputs": [],
   "source": []
  },
  {
   "cell_type": "code",
   "execution_count": 62,
   "id": "54fa5f59",
   "metadata": {},
   "outputs": [
    {
     "data": {
      "text/plain": [
       "0        производитель эвотор проанализировать дать сво...\n",
       "1        еврокомиссия марош шефчович пригласить россия ...\n",
       "2        официальный делегация правительство россия при...\n",
       "3        импортёр спиртной напиток заявить проблема пер...\n",
       "4        компания уличить использование асбест производ...\n",
       "                               ...                        \n",
       "31995    итог третий квартал год фондовый индекс весь м...\n",
       "31996    федеральный служба финансовый рынок фсфр сентя...\n",
       "31997    вести переговоры объединение принадлежащий ком...\n",
       "31998    правительство россия внести госдума проект бюд...\n",
       "31999    котировка высокотехнологичный компания китай о...\n",
       "Length: 32000, dtype: object"
      ]
     },
     "execution_count": 62,
     "metadata": {},
     "output_type": "execute_result"
    }
   ],
   "source": [
    "pd.Series(pred_economic_lst)"
   ]
  },
  {
   "cell_type": "code",
   "execution_count": null,
   "id": "623aff33",
   "metadata": {},
   "outputs": [],
   "source": []
  },
  {
   "cell_type": "code",
   "execution_count": null,
   "id": "04efe675",
   "metadata": {},
   "outputs": [],
   "source": []
  },
  {
   "cell_type": "code",
   "execution_count": 89,
   "id": "e6422f72",
   "metadata": {},
   "outputs": [],
   "source": [
    "dicted_data = {\n",
    "    \"category\":[],\n",
    "    \"text\":[] }"
   ]
  },
  {
   "cell_type": "code",
   "execution_count": 90,
   "id": "33bc74fb",
   "metadata": {},
   "outputs": [],
   "source": [
    "def creating_df(lst, category):\n",
    "    \n",
    "    for i in range(len(lst)):\n",
    "        dicted_data[\"category\"].append(category)\n",
    "    dicted_data[\"text\"].extend(lst)"
   ]
  },
  {
   "cell_type": "code",
   "execution_count": 92,
   "id": "fa443461",
   "metadata": {},
   "outputs": [],
   "source": [
    "creating_df(pred_politics_lst, \"politics\")\n",
    "creating_df(pred_society_lst, \"society\")\n",
    "creating_df(pred_sport_lst, \"sport\")\n",
    "creating_df(pred_cultural_lst, \"cultural\")\n",
    "creating_df(pred_science_lst, \"science\")\n",
    "creating_df(pred_economic_lst, \"economic\")"
   ]
  },
  {
   "cell_type": "code",
   "execution_count": null,
   "id": "9f5eb11b",
   "metadata": {},
   "outputs": [],
   "source": []
  },
  {
   "cell_type": "code",
   "execution_count": 93,
   "id": "37ab3f73",
   "metadata": {},
   "outputs": [
    {
     "data": {
      "text/html": [
       "<div>\n",
       "<style scoped>\n",
       "    .dataframe tbody tr th:only-of-type {\n",
       "        vertical-align: middle;\n",
       "    }\n",
       "\n",
       "    .dataframe tbody tr th {\n",
       "        vertical-align: top;\n",
       "    }\n",
       "\n",
       "    .dataframe thead th {\n",
       "        text-align: right;\n",
       "    }\n",
       "</style>\n",
       "<table border=\"1\" class=\"dataframe\">\n",
       "  <thead>\n",
       "    <tr style=\"text-align: right;\">\n",
       "      <th></th>\n",
       "      <th>category</th>\n",
       "      <th>text</th>\n",
       "    </tr>\n",
       "  </thead>\n",
       "  <tbody>\n",
       "    <tr>\n",
       "      <th>0</th>\n",
       "      <td>politics</td>\n",
       "      <td>начало расследование российский вмешательство ...</td>\n",
       "    </tr>\n",
       "    <tr>\n",
       "      <th>1</th>\n",
       "      <td>politics</td>\n",
       "      <td>минобороны опубликовать видео полёт российский...</td>\n",
       "    </tr>\n",
       "    <tr>\n",
       "      <th>2</th>\n",
       "      <td>politics</td>\n",
       "      <td>житель великобритания платить семь евро посеще...</td>\n",
       "    </tr>\n",
       "    <tr>\n",
       "      <th>3</th>\n",
       "      <td>politics</td>\n",
       "      <td>россиянка мария бутин судить сша обвинение уча...</td>\n",
       "    </tr>\n",
       "    <tr>\n",
       "      <th>4</th>\n",
       "      <td>politics</td>\n",
       "      <td>пентагон проигнорировать обращение министр обо...</td>\n",
       "    </tr>\n",
       "    <tr>\n",
       "      <th>...</th>\n",
       "      <td>...</td>\n",
       "      <td>...</td>\n",
       "    </tr>\n",
       "    <tr>\n",
       "      <th>188757</th>\n",
       "      <td>economic</td>\n",
       "      <td>итог третий квартал год фондовый индекс весь м...</td>\n",
       "    </tr>\n",
       "    <tr>\n",
       "      <th>188758</th>\n",
       "      <td>economic</td>\n",
       "      <td>федеральный служба финансовый рынок фсфр сентя...</td>\n",
       "    </tr>\n",
       "    <tr>\n",
       "      <th>188759</th>\n",
       "      <td>economic</td>\n",
       "      <td>вести переговоры объединение принадлежащий ком...</td>\n",
       "    </tr>\n",
       "    <tr>\n",
       "      <th>188760</th>\n",
       "      <td>economic</td>\n",
       "      <td>правительство россия внести госдума проект бюд...</td>\n",
       "    </tr>\n",
       "    <tr>\n",
       "      <th>188761</th>\n",
       "      <td>economic</td>\n",
       "      <td>котировка высокотехнологичный компания китай о...</td>\n",
       "    </tr>\n",
       "  </tbody>\n",
       "</table>\n",
       "<p>188762 rows × 2 columns</p>\n",
       "</div>"
      ],
      "text/plain": [
       "        category                                               text\n",
       "0       politics  начало расследование российский вмешательство ...\n",
       "1       politics  минобороны опубликовать видео полёт российский...\n",
       "2       politics  житель великобритания платить семь евро посеще...\n",
       "3       politics  россиянка мария бутин судить сша обвинение уча...\n",
       "4       politics  пентагон проигнорировать обращение министр обо...\n",
       "...          ...                                                ...\n",
       "188757  economic  итог третий квартал год фондовый индекс весь м...\n",
       "188758  economic  федеральный служба финансовый рынок фсфр сентя...\n",
       "188759  economic  вести переговоры объединение принадлежащий ком...\n",
       "188760  economic  правительство россия внести госдума проект бюд...\n",
       "188761  economic  котировка высокотехнологичный компания китай о...\n",
       "\n",
       "[188762 rows x 2 columns]"
      ]
     },
     "execution_count": 93,
     "metadata": {},
     "output_type": "execute_result"
    }
   ],
   "source": [
    "df = pd.DataFrame(dicted_data)\n",
    "df"
   ]
  },
  {
   "cell_type": "code",
   "execution_count": 103,
   "id": "93e6c8cf",
   "metadata": {},
   "outputs": [
    {
     "name": "stderr",
     "output_type": "stream",
     "text": [
      "/Users/aleksandrtulakov/opt/anaconda3/lib/python3.8/site-packages/seaborn/_decorators.py:36: FutureWarning: Pass the following variable as a keyword arg: x. From version 0.12, the only valid positional argument will be `data`, and passing other arguments without an explicit keyword will result in an error or misinterpretation.\n",
      "  warnings.warn(\n"
     ]
    },
    {
     "data": {
      "text/plain": [
       "Text(0.5, 0, 'review score')"
      ]
     },
     "execution_count": 103,
     "metadata": {},
     "output_type": "execute_result"
    },
    {
     "data": {
      "image/png": "[encoded data removed]",
      "text/plain": [
       "<Figure size 432x288 with 1 Axes>"
      ]
     },
     "metadata": {
      "needs_background": "light"
     },
     "output_type": "display_data"
    }
   ],
   "source": [
    "sns.countplot(df[\"category\"])\n",
    "plt.xlabel('review score')"
   ]
  },
  {
   "cell_type": "code",
   "execution_count": null,
   "id": "76920ec5",
   "metadata": {},
   "outputs": [],
   "source": []
  }
 ],
 "metadata": {
  "kernelspec": {
   "display_name": "Python 3.8.8 64-bit ('base': conda)",
   "language": "python",
   "name": "python388jvsc74a57bd0cc57532635143f8cd8d9e88cde67b02ead115ae115f0c07be6b709767f5e693f"
  },
  "language_info": {
   "codemirror_mode": {
    "name": "ipython",
    "version": 3
   },
   "file_extension": ".py",
   "mimetype": "text/x-python",
   "name": "python",
   "nbconvert_exporter": "python",
   "pygments_lexer": "ipython3",
   "version": "3.8.8"
  }
 },
 "nbformat": 4,
 "nbformat_minor": 5
}
